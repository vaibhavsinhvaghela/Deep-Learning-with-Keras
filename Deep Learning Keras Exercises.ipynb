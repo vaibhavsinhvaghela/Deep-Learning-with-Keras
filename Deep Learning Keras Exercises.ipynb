{
 "cells": [
  {
   "cell_type": "markdown",
   "metadata": {},
   "source": [
    "## Exercise 1\n",
    "\n",
    "You've just been hired at a real estate investment firm and they would like you to build a model for pricing houses. You are given a dataset that contains data for house prices and a few features like number of bedrooms, size in square feet and age of the house. Let's see if you can build a model that is able to predict the price. In this exercise we extend what we have learned about linear regression to a dataset with more than one feature. Here are the steps to complete it:\n",
    "\n",
    "1. Load the dataset ../data/housing-data.csv\n",
    "- plot the histograms for each feature\n",
    "- create 2 variables called X and y: X shall be a matrix with 3 columns (sqft,bdrms,age) and y shall be a vector with 1 column (price)\n",
    "- create a linear regression model in Keras with the appropriate number of inputs and output\n",
    "- split the data into train and test with a 20% test size\n",
    "- train the model on the training set and check its accuracy on training and test set\n",
    "- how's your model doing? Is the loss growing smaller?\n",
    "- try to improve your model with these experiments:\n",
    "    - normalize the input features with one of the rescaling techniques mentioned above\n",
    "    - use a different value for the learning rate of your model\n",
    "    - use a different optimizer\n",
    "- once you're satisfied with training, check the R2score on the test set"
   ]
  },
  {
   "cell_type": "code",
   "execution_count": 1,
   "metadata": {},
   "outputs": [],
   "source": [
    "import numpy as np\n",
    "import pandas as pd\n",
    "import matplotlib.pyplot as plt"
   ]
  },
  {
   "cell_type": "code",
   "execution_count": 6,
   "metadata": {},
   "outputs": [],
   "source": [
    "df = pd.read_csv('../data/housing-data.csv')"
   ]
  },
  {
   "cell_type": "code",
   "execution_count": 7,
   "metadata": {},
   "outputs": [
    {
     "data": {
      "text/html": [
       "<div>\n",
       "<table border=\"1\" class=\"dataframe\">\n",
       "  <thead>\n",
       "    <tr style=\"text-align: right;\">\n",
       "      <th></th>\n",
       "      <th>sqft</th>\n",
       "      <th>bdrms</th>\n",
       "      <th>age</th>\n",
       "      <th>price</th>\n",
       "    </tr>\n",
       "  </thead>\n",
       "  <tbody>\n",
       "    <tr>\n",
       "      <th>count</th>\n",
       "      <td>47.000000</td>\n",
       "      <td>47.000000</td>\n",
       "      <td>47.000000</td>\n",
       "      <td>47.000000</td>\n",
       "    </tr>\n",
       "    <tr>\n",
       "      <th>mean</th>\n",
       "      <td>2000.680851</td>\n",
       "      <td>3.170213</td>\n",
       "      <td>42.744681</td>\n",
       "      <td>340412.659574</td>\n",
       "    </tr>\n",
       "    <tr>\n",
       "      <th>std</th>\n",
       "      <td>794.702354</td>\n",
       "      <td>0.760982</td>\n",
       "      <td>22.873440</td>\n",
       "      <td>125039.899586</td>\n",
       "    </tr>\n",
       "    <tr>\n",
       "      <th>min</th>\n",
       "      <td>852.000000</td>\n",
       "      <td>1.000000</td>\n",
       "      <td>5.000000</td>\n",
       "      <td>169900.000000</td>\n",
       "    </tr>\n",
       "    <tr>\n",
       "      <th>25%</th>\n",
       "      <td>1432.000000</td>\n",
       "      <td>3.000000</td>\n",
       "      <td>24.500000</td>\n",
       "      <td>249900.000000</td>\n",
       "    </tr>\n",
       "    <tr>\n",
       "      <th>50%</th>\n",
       "      <td>1888.000000</td>\n",
       "      <td>3.000000</td>\n",
       "      <td>44.000000</td>\n",
       "      <td>299900.000000</td>\n",
       "    </tr>\n",
       "    <tr>\n",
       "      <th>75%</th>\n",
       "      <td>2269.000000</td>\n",
       "      <td>4.000000</td>\n",
       "      <td>61.500000</td>\n",
       "      <td>384450.000000</td>\n",
       "    </tr>\n",
       "    <tr>\n",
       "      <th>max</th>\n",
       "      <td>4478.000000</td>\n",
       "      <td>5.000000</td>\n",
       "      <td>79.000000</td>\n",
       "      <td>699900.000000</td>\n",
       "    </tr>\n",
       "  </tbody>\n",
       "</table>\n",
       "</div>"
      ],
      "text/plain": [
       "              sqft      bdrms        age          price\n",
       "count    47.000000  47.000000  47.000000      47.000000\n",
       "mean   2000.680851   3.170213  42.744681  340412.659574\n",
       "std     794.702354   0.760982  22.873440  125039.899586\n",
       "min     852.000000   1.000000   5.000000  169900.000000\n",
       "25%    1432.000000   3.000000  24.500000  249900.000000\n",
       "50%    1888.000000   3.000000  44.000000  299900.000000\n",
       "75%    2269.000000   4.000000  61.500000  384450.000000\n",
       "max    4478.000000   5.000000  79.000000  699900.000000"
      ]
     },
     "execution_count": 7,
     "metadata": {},
     "output_type": "execute_result"
    }
   ],
   "source": [
    "df.describe()"
   ]
  },
  {
   "cell_type": "code",
   "execution_count": 8,
   "metadata": {},
   "outputs": [],
   "source": [
    "from sklearn.preprocessing import MinMaxScaler"
   ]
  },
  {
   "cell_type": "code",
   "execution_count": 9,
   "metadata": {},
   "outputs": [],
   "source": [
    "mms = MinMaxScaler()"
   ]
  },
  {
   "cell_type": "code",
   "execution_count": 89,
   "metadata": {},
   "outputs": [
    {
     "name": "stderr",
     "output_type": "stream",
     "text": [
      "/Users/vaibhavsinh_vaghela/Anaconda/anaconda3/envs/ztdl/lib/python3.5/site-packages/sklearn/utils/validation.py:429: DataConversionWarning: Data with input dtype int64 was converted to float64 by MinMaxScaler.\n",
      "  warnings.warn(msg, _DataConversionWarning)\n"
     ]
    },
    {
     "data": {
      "text/html": [
       "<div>\n",
       "<table border=\"1\" class=\"dataframe\">\n",
       "  <thead>\n",
       "    <tr style=\"text-align: right;\">\n",
       "      <th></th>\n",
       "      <th>price</th>\n",
       "      <th>sqft_scaled</th>\n",
       "      <th>bdrms_scaled</th>\n",
       "      <th>age_scaled</th>\n",
       "      <th>price_scaled</th>\n",
       "    </tr>\n",
       "  </thead>\n",
       "  <tbody>\n",
       "    <tr>\n",
       "      <th>0</th>\n",
       "      <td>399900</td>\n",
       "      <td>0.345284</td>\n",
       "      <td>0.50</td>\n",
       "      <td>0.878378</td>\n",
       "      <td>0.433962</td>\n",
       "    </tr>\n",
       "    <tr>\n",
       "      <th>1</th>\n",
       "      <td>329900</td>\n",
       "      <td>0.206288</td>\n",
       "      <td>0.50</td>\n",
       "      <td>0.310811</td>\n",
       "      <td>0.301887</td>\n",
       "    </tr>\n",
       "    <tr>\n",
       "      <th>2</th>\n",
       "      <td>369000</td>\n",
       "      <td>0.426917</td>\n",
       "      <td>0.50</td>\n",
       "      <td>0.527027</td>\n",
       "      <td>0.375660</td>\n",
       "    </tr>\n",
       "    <tr>\n",
       "      <th>3</th>\n",
       "      <td>232000</td>\n",
       "      <td>0.155543</td>\n",
       "      <td>0.25</td>\n",
       "      <td>0.594595</td>\n",
       "      <td>0.117170</td>\n",
       "    </tr>\n",
       "    <tr>\n",
       "      <th>4</th>\n",
       "      <td>539900</td>\n",
       "      <td>0.592388</td>\n",
       "      <td>0.75</td>\n",
       "      <td>0.945946</td>\n",
       "      <td>0.698113</td>\n",
       "    </tr>\n",
       "  </tbody>\n",
       "</table>\n",
       "</div>"
      ],
      "text/plain": [
       "    price  sqft_scaled  bdrms_scaled  age_scaled  price_scaled\n",
       "0  399900     0.345284          0.50    0.878378      0.433962\n",
       "1  329900     0.206288          0.50    0.310811      0.301887\n",
       "2  369000     0.426917          0.50    0.527027      0.375660\n",
       "3  232000     0.155543          0.25    0.594595      0.117170\n",
       "4  539900     0.592388          0.75    0.945946      0.698113"
      ]
     },
     "execution_count": 89,
     "metadata": {},
     "output_type": "execute_result"
    }
   ],
   "source": [
    "\n",
    "df['price_scaled']=mms.fit_transform(df['price'])\n",
    "df.head()"
   ]
  },
  {
   "cell_type": "code",
   "execution_count": 90,
   "metadata": {},
   "outputs": [],
   "source": [
    "df.drop(['price'],axis =1,inplace=True)"
   ]
  },
  {
   "cell_type": "code",
   "execution_count": 91,
   "metadata": {},
   "outputs": [
    {
     "name": "stdout",
     "output_type": "stream",
     "text": [
      "<class 'pandas.core.frame.DataFrame'>\n",
      "RangeIndex: 47 entries, 0 to 46\n",
      "Data columns (total 4 columns):\n",
      "sqft_scaled     47 non-null float64\n",
      "bdrms_scaled    47 non-null float64\n",
      "age_scaled      47 non-null float64\n",
      "price_scaled    47 non-null float64\n",
      "dtypes: float64(4)\n",
      "memory usage: 1.5 KB\n"
     ]
    }
   ],
   "source": [
    "df.info()"
   ]
  },
  {
   "cell_type": "code",
   "execution_count": 141,
   "metadata": {},
   "outputs": [],
   "source": [
    "from keras.models import Sequential\n",
    "from keras.layers import Dense\n",
    "from keras.optimizers import Adam, SGD"
   ]
  },
  {
   "cell_type": "code",
   "execution_count": 142,
   "metadata": {},
   "outputs": [],
   "source": [
    "model = Sequential()"
   ]
  },
  {
   "cell_type": "code",
   "execution_count": 143,
   "metadata": {},
   "outputs": [],
   "source": [
    "model.add(Dense(1,input_shape=(3,)))"
   ]
  },
  {
   "cell_type": "code",
   "execution_count": 144,
   "metadata": {},
   "outputs": [],
   "source": [
    "model.compile(optimizer=Adam(lr=0.1),loss='mean_squared_error')"
   ]
  },
  {
   "cell_type": "code",
   "execution_count": 145,
   "metadata": {},
   "outputs": [],
   "source": [
    "from sklearn.model_selection import train_test_split"
   ]
  },
  {
   "cell_type": "code",
   "execution_count": 146,
   "metadata": {},
   "outputs": [],
   "source": [
    "X=df[['sqft_scaled','bdrms_scaled','age_scaled']].values\n",
    "y=df['price_scaled'].values\n",
    "X_train, X_test, y_train, y_test = train_test_split(X, y, test_size=0.33)"
   ]
  },
  {
   "cell_type": "code",
   "execution_count": 147,
   "metadata": {},
   "outputs": [
    {
     "name": "stdout",
     "output_type": "stream",
     "text": [
      "Epoch 1/40\n",
      "31/31 [==============================] - 0s - loss: 0.2407\n",
      "Epoch 2/40\n",
      "31/31 [==============================] - 0s - loss: 0.1866\n",
      "Epoch 3/40\n",
      "31/31 [==============================] - 0s - loss: 0.1908\n",
      "Epoch 4/40\n",
      "31/31 [==============================] - 0s - loss: 0.1751\n",
      "Epoch 5/40\n",
      "31/31 [==============================] - 0s - loss: 0.1463\n",
      "Epoch 6/40\n",
      "31/31 [==============================] - 0s - loss: 0.1221\n",
      "Epoch 7/40\n",
      "31/31 [==============================] - 0s - loss: 0.1093\n",
      "Epoch 8/40\n",
      "31/31 [==============================] - 0s - loss: 0.1026\n",
      "Epoch 9/40\n",
      "31/31 [==============================] - 0s - loss: 0.0936\n",
      "Epoch 10/40\n",
      "31/31 [==============================] - 0s - loss: 0.0803\n",
      "Epoch 11/40\n",
      "31/31 [==============================] - 0s - loss: 0.0671\n",
      "Epoch 12/40\n",
      "31/31 [==============================] - 0s - loss: 0.0585\n",
      "Epoch 13/40\n",
      "31/31 [==============================] - 0s - loss: 0.0549\n",
      "Epoch 14/40\n",
      "31/31 [==============================] - 0s - loss: 0.0530\n",
      "Epoch 15/40\n",
      "31/31 [==============================] - 0s - loss: 0.0496\n",
      "Epoch 16/40\n",
      "31/31 [==============================] - 0s - loss: 0.0444\n",
      "Epoch 17/40\n",
      "31/31 [==============================] - 0s - loss: 0.0399\n",
      "Epoch 18/40\n",
      "31/31 [==============================] - 0s - loss: 0.0380\n",
      "Epoch 19/40\n",
      "31/31 [==============================] - 0s - loss: 0.0383\n",
      "Epoch 20/40\n",
      "31/31 [==============================] - 0s - loss: 0.0387\n",
      "Epoch 21/40\n",
      "31/31 [==============================] - 0s - loss: 0.0376\n",
      "Epoch 22/40\n",
      "31/31 [==============================] - 0s - loss: 0.0357\n",
      "Epoch 23/40\n",
      "31/31 [==============================] - 0s - loss: 0.0342\n",
      "Epoch 24/40\n",
      "31/31 [==============================] - 0s - loss: 0.0340\n",
      "Epoch 25/40\n",
      "31/31 [==============================] - 0s - loss: 0.0344\n",
      "Epoch 26/40\n",
      "31/31 [==============================] - 0s - loss: 0.0342\n",
      "Epoch 27/40\n",
      "31/31 [==============================] - 0s - loss: 0.0329\n",
      "Epoch 28/40\n",
      "31/31 [==============================] - 0s - loss: 0.0312\n",
      "Epoch 29/40\n",
      "31/31 [==============================] - 0s - loss: 0.0301\n",
      "Epoch 30/40\n",
      "31/31 [==============================] - 0s - loss: 0.0295\n",
      "Epoch 31/40\n",
      "31/31 [==============================] - 0s - loss: 0.0290\n",
      "Epoch 32/40\n",
      "31/31 [==============================] - 0s - loss: 0.0279\n",
      "Epoch 33/40\n",
      "31/31 [==============================] - 0s - loss: 0.0264\n",
      "Epoch 34/40\n",
      "31/31 [==============================] - 0s - loss: 0.0251\n",
      "Epoch 35/40\n",
      "31/31 [==============================] - 0s - loss: 0.0242\n",
      "Epoch 36/40\n",
      "31/31 [==============================] - 0s - loss: 0.0237\n",
      "Epoch 37/40\n",
      "31/31 [==============================] - 0s - loss: 0.0230\n",
      "Epoch 38/40\n",
      "31/31 [==============================] - 0s - loss: 0.0221\n",
      "Epoch 39/40\n",
      "31/31 [==============================] - 0s - loss: 0.0212\n",
      "Epoch 40/40\n",
      "31/31 [==============================] - 0s - loss: 0.0207\n"
     ]
    },
    {
     "data": {
      "text/plain": [
       "<keras.callbacks.History at 0x1267f5358>"
      ]
     },
     "execution_count": 147,
     "metadata": {},
     "output_type": "execute_result"
    }
   ],
   "source": [
    "model.fit(X_train,y_train,epochs=40)"
   ]
  },
  {
   "cell_type": "code",
   "execution_count": 148,
   "metadata": {},
   "outputs": [],
   "source": [
    "from sklearn.metrics import accuracy_score, f1_score, r2_score, precision_score, recall_score"
   ]
  },
  {
   "cell_type": "code",
   "execution_count": 149,
   "metadata": {},
   "outputs": [
    {
     "data": {
      "text/plain": [
       "<keras.callbacks.History at 0x125336dd8>"
      ]
     },
     "execution_count": 149,
     "metadata": {},
     "output_type": "execute_result"
    }
   ],
   "source": [
    "model.fit(X_train,y_train,epochs=20,verbose=0)"
   ]
  },
  {
   "cell_type": "code",
   "execution_count": 151,
   "metadata": {},
   "outputs": [
    {
     "name": "stdout",
     "output_type": "stream",
     "text": [
      "0.728604493707\n"
     ]
    }
   ],
   "source": [
    "print (r2_score(y_train,model.predict(X_train)))"
   ]
  },
  {
   "cell_type": "code",
   "execution_count": 152,
   "metadata": {},
   "outputs": [
    {
     "data": {
      "text/plain": [
       "<keras.callbacks.History at 0x125372860>"
      ]
     },
     "execution_count": 152,
     "metadata": {},
     "output_type": "execute_result"
    }
   ],
   "source": [
    "model.fit(X_train,y_train,epochs=20,verbose=0)"
   ]
  },
  {
   "cell_type": "code",
   "execution_count": 153,
   "metadata": {},
   "outputs": [
    {
     "name": "stdout",
     "output_type": "stream",
     "text": [
      "0.729797533958\n"
     ]
    }
   ],
   "source": [
    "print (r2_score(y_train,model.predict(X_train)))"
   ]
  },
  {
   "cell_type": "markdown",
   "metadata": {},
   "source": [
    "## Exercise 2\n",
    "\n",
    "Your boss was extremely happy with your work on the housing price prediction model and decided to entrust you with a more challenging task. They've seen a lot of people leave the company recently and they would like to understand why that's happening. They have collected historical data on employees and they would like you to build a model that is able to predict which employee will leave next. The would like a model that is better than random guessing. They also prefer false negatives than false positives, in this first phase. Fields in the dataset include:\n",
    "\n",
    "- Employee satisfaction level\n",
    "- Last evaluation\n",
    "- Number of projects\n",
    "- Average monthly hours\n",
    "- Time spent at the company\n",
    "- Whether they have had a work accident\n",
    "- Whether they have had a promotion in the last 5 years\n",
    "- Department\n",
    "- Salary\n",
    "- Whether the employee has left\n",
    "\n",
    "Your goal is to predict the binary outcome variable `left` using the rest of the data. Since the outcome is binary, this is a classification problem. Here are some things you may want to try out:\n",
    "\n",
    "1. load the dataset at ../data/HR_comma_sep.csv, inspect it with `.head()`, `.info()` and `.describe()`.\n",
    "- Establish a benchmark: what would be your accuracy score if you predicted everyone stay?\n",
    "- Check if any feature needs rescaling. You may plot a histogram of the feature to decide which rescaling method is more appropriate.\n",
    "- convert the categorical features into binary dummy columns. You will then have to combine them with the numerical features using `pd.concat`.\n",
    "- do the usual train/test split with a 20% test size\n",
    "- play around with learning rate and optimizer\n",
    "- check the confusion matrix, precision and recall\n",
    "- check if you still get the same results if you use a 5-Fold cross validation on all the data\n",
    "- Is the model good enough for your boss?\n",
    "\n",
    "As you will see in this exercise, the a logistic regression model is not good enough to help your boss. In the next chapter we will learn how to go beyond linear models.\n",
    "\n",
    "This dataset comes from https://www.kaggle.com/ludobenistant/hr-analytics/ and is released under [CC BY-SA 4.0 License](https://creativecommons.org/licenses/by-sa/4.0/)."
   ]
  },
  {
   "cell_type": "code",
   "execution_count": 184,
   "metadata": {},
   "outputs": [],
   "source": [
    "dataset = pd.read_csv(\"../data/HR_comma_sep.csv\")"
   ]
  },
  {
   "cell_type": "code",
   "execution_count": 185,
   "metadata": {},
   "outputs": [
    {
     "name": "stdout",
     "output_type": "stream",
     "text": [
      "<class 'pandas.core.frame.DataFrame'>\n",
      "RangeIndex: 14999 entries, 0 to 14998\n",
      "Data columns (total 10 columns):\n",
      "satisfaction_level       14999 non-null float64\n",
      "last_evaluation          14999 non-null float64\n",
      "number_project           14999 non-null int64\n",
      "average_montly_hours     14999 non-null int64\n",
      "time_spend_company       14999 non-null int64\n",
      "Work_accident            14999 non-null int64\n",
      "left                     14999 non-null int64\n",
      "promotion_last_5years    14999 non-null int64\n",
      "sales                    14999 non-null object\n",
      "salary                   14999 non-null object\n",
      "dtypes: float64(2), int64(6), object(2)\n",
      "memory usage: 1.1+ MB\n"
     ]
    }
   ],
   "source": [
    "dataset.info()"
   ]
  },
  {
   "cell_type": "code",
   "execution_count": 186,
   "metadata": {},
   "outputs": [
    {
     "data": {
      "text/html": [
       "<div>\n",
       "<table border=\"1\" class=\"dataframe\">\n",
       "  <thead>\n",
       "    <tr style=\"text-align: right;\">\n",
       "      <th></th>\n",
       "      <th>satisfaction_level</th>\n",
       "      <th>last_evaluation</th>\n",
       "      <th>number_project</th>\n",
       "      <th>average_montly_hours</th>\n",
       "      <th>time_spend_company</th>\n",
       "      <th>Work_accident</th>\n",
       "      <th>left</th>\n",
       "      <th>promotion_last_5years</th>\n",
       "    </tr>\n",
       "  </thead>\n",
       "  <tbody>\n",
       "    <tr>\n",
       "      <th>count</th>\n",
       "      <td>14999.000000</td>\n",
       "      <td>14999.000000</td>\n",
       "      <td>14999.000000</td>\n",
       "      <td>14999.000000</td>\n",
       "      <td>14999.000000</td>\n",
       "      <td>14999.000000</td>\n",
       "      <td>14999.000000</td>\n",
       "      <td>14999.000000</td>\n",
       "    </tr>\n",
       "    <tr>\n",
       "      <th>mean</th>\n",
       "      <td>0.612834</td>\n",
       "      <td>0.716102</td>\n",
       "      <td>3.803054</td>\n",
       "      <td>201.050337</td>\n",
       "      <td>3.498233</td>\n",
       "      <td>0.144610</td>\n",
       "      <td>0.238083</td>\n",
       "      <td>0.021268</td>\n",
       "    </tr>\n",
       "    <tr>\n",
       "      <th>std</th>\n",
       "      <td>0.248631</td>\n",
       "      <td>0.171169</td>\n",
       "      <td>1.232592</td>\n",
       "      <td>49.943099</td>\n",
       "      <td>1.460136</td>\n",
       "      <td>0.351719</td>\n",
       "      <td>0.425924</td>\n",
       "      <td>0.144281</td>\n",
       "    </tr>\n",
       "    <tr>\n",
       "      <th>min</th>\n",
       "      <td>0.090000</td>\n",
       "      <td>0.360000</td>\n",
       "      <td>2.000000</td>\n",
       "      <td>96.000000</td>\n",
       "      <td>2.000000</td>\n",
       "      <td>0.000000</td>\n",
       "      <td>0.000000</td>\n",
       "      <td>0.000000</td>\n",
       "    </tr>\n",
       "    <tr>\n",
       "      <th>25%</th>\n",
       "      <td>0.440000</td>\n",
       "      <td>0.560000</td>\n",
       "      <td>3.000000</td>\n",
       "      <td>156.000000</td>\n",
       "      <td>3.000000</td>\n",
       "      <td>0.000000</td>\n",
       "      <td>0.000000</td>\n",
       "      <td>0.000000</td>\n",
       "    </tr>\n",
       "    <tr>\n",
       "      <th>50%</th>\n",
       "      <td>0.640000</td>\n",
       "      <td>0.720000</td>\n",
       "      <td>4.000000</td>\n",
       "      <td>200.000000</td>\n",
       "      <td>3.000000</td>\n",
       "      <td>0.000000</td>\n",
       "      <td>0.000000</td>\n",
       "      <td>0.000000</td>\n",
       "    </tr>\n",
       "    <tr>\n",
       "      <th>75%</th>\n",
       "      <td>0.820000</td>\n",
       "      <td>0.870000</td>\n",
       "      <td>5.000000</td>\n",
       "      <td>245.000000</td>\n",
       "      <td>4.000000</td>\n",
       "      <td>0.000000</td>\n",
       "      <td>0.000000</td>\n",
       "      <td>0.000000</td>\n",
       "    </tr>\n",
       "    <tr>\n",
       "      <th>max</th>\n",
       "      <td>1.000000</td>\n",
       "      <td>1.000000</td>\n",
       "      <td>7.000000</td>\n",
       "      <td>310.000000</td>\n",
       "      <td>10.000000</td>\n",
       "      <td>1.000000</td>\n",
       "      <td>1.000000</td>\n",
       "      <td>1.000000</td>\n",
       "    </tr>\n",
       "  </tbody>\n",
       "</table>\n",
       "</div>"
      ],
      "text/plain": [
       "       satisfaction_level  last_evaluation  number_project  \\\n",
       "count        14999.000000     14999.000000    14999.000000   \n",
       "mean             0.612834         0.716102        3.803054   \n",
       "std              0.248631         0.171169        1.232592   \n",
       "min              0.090000         0.360000        2.000000   \n",
       "25%              0.440000         0.560000        3.000000   \n",
       "50%              0.640000         0.720000        4.000000   \n",
       "75%              0.820000         0.870000        5.000000   \n",
       "max              1.000000         1.000000        7.000000   \n",
       "\n",
       "       average_montly_hours  time_spend_company  Work_accident          left  \\\n",
       "count          14999.000000        14999.000000   14999.000000  14999.000000   \n",
       "mean             201.050337            3.498233       0.144610      0.238083   \n",
       "std               49.943099            1.460136       0.351719      0.425924   \n",
       "min               96.000000            2.000000       0.000000      0.000000   \n",
       "25%              156.000000            3.000000       0.000000      0.000000   \n",
       "50%              200.000000            3.000000       0.000000      0.000000   \n",
       "75%              245.000000            4.000000       0.000000      0.000000   \n",
       "max              310.000000           10.000000       1.000000      1.000000   \n",
       "\n",
       "       promotion_last_5years  \n",
       "count           14999.000000  \n",
       "mean                0.021268  \n",
       "std                 0.144281  \n",
       "min                 0.000000  \n",
       "25%                 0.000000  \n",
       "50%                 0.000000  \n",
       "75%                 0.000000  \n",
       "max                 1.000000  "
      ]
     },
     "execution_count": 186,
     "metadata": {},
     "output_type": "execute_result"
    }
   ],
   "source": [
    "dataset.describe()"
   ]
  },
  {
   "cell_type": "code",
   "execution_count": 187,
   "metadata": {},
   "outputs": [
    {
     "data": {
      "text/html": [
       "<div>\n",
       "<table border=\"1\" class=\"dataframe\">\n",
       "  <thead>\n",
       "    <tr style=\"text-align: right;\">\n",
       "      <th></th>\n",
       "      <th>satisfaction_level</th>\n",
       "      <th>last_evaluation</th>\n",
       "      <th>number_project</th>\n",
       "      <th>average_montly_hours</th>\n",
       "      <th>time_spend_company</th>\n",
       "      <th>Work_accident</th>\n",
       "      <th>left</th>\n",
       "      <th>promotion_last_5years</th>\n",
       "      <th>sales</th>\n",
       "      <th>salary</th>\n",
       "    </tr>\n",
       "  </thead>\n",
       "  <tbody>\n",
       "    <tr>\n",
       "      <th>0</th>\n",
       "      <td>0.38</td>\n",
       "      <td>0.53</td>\n",
       "      <td>2</td>\n",
       "      <td>157</td>\n",
       "      <td>3</td>\n",
       "      <td>0</td>\n",
       "      <td>1</td>\n",
       "      <td>0</td>\n",
       "      <td>sales</td>\n",
       "      <td>low</td>\n",
       "    </tr>\n",
       "    <tr>\n",
       "      <th>1</th>\n",
       "      <td>0.80</td>\n",
       "      <td>0.86</td>\n",
       "      <td>5</td>\n",
       "      <td>262</td>\n",
       "      <td>6</td>\n",
       "      <td>0</td>\n",
       "      <td>1</td>\n",
       "      <td>0</td>\n",
       "      <td>sales</td>\n",
       "      <td>medium</td>\n",
       "    </tr>\n",
       "    <tr>\n",
       "      <th>2</th>\n",
       "      <td>0.11</td>\n",
       "      <td>0.88</td>\n",
       "      <td>7</td>\n",
       "      <td>272</td>\n",
       "      <td>4</td>\n",
       "      <td>0</td>\n",
       "      <td>1</td>\n",
       "      <td>0</td>\n",
       "      <td>sales</td>\n",
       "      <td>medium</td>\n",
       "    </tr>\n",
       "    <tr>\n",
       "      <th>3</th>\n",
       "      <td>0.72</td>\n",
       "      <td>0.87</td>\n",
       "      <td>5</td>\n",
       "      <td>223</td>\n",
       "      <td>5</td>\n",
       "      <td>0</td>\n",
       "      <td>1</td>\n",
       "      <td>0</td>\n",
       "      <td>sales</td>\n",
       "      <td>low</td>\n",
       "    </tr>\n",
       "    <tr>\n",
       "      <th>4</th>\n",
       "      <td>0.37</td>\n",
       "      <td>0.52</td>\n",
       "      <td>2</td>\n",
       "      <td>159</td>\n",
       "      <td>3</td>\n",
       "      <td>0</td>\n",
       "      <td>1</td>\n",
       "      <td>0</td>\n",
       "      <td>sales</td>\n",
       "      <td>low</td>\n",
       "    </tr>\n",
       "  </tbody>\n",
       "</table>\n",
       "</div>"
      ],
      "text/plain": [
       "   satisfaction_level  last_evaluation  number_project  average_montly_hours  \\\n",
       "0                0.38             0.53               2                   157   \n",
       "1                0.80             0.86               5                   262   \n",
       "2                0.11             0.88               7                   272   \n",
       "3                0.72             0.87               5                   223   \n",
       "4                0.37             0.52               2                   159   \n",
       "\n",
       "   time_spend_company  Work_accident  left  promotion_last_5years  sales  \\\n",
       "0                   3              0     1                      0  sales   \n",
       "1                   6              0     1                      0  sales   \n",
       "2                   4              0     1                      0  sales   \n",
       "3                   5              0     1                      0  sales   \n",
       "4                   3              0     1                      0  sales   \n",
       "\n",
       "   salary  \n",
       "0     low  \n",
       "1  medium  \n",
       "2  medium  \n",
       "3     low  \n",
       "4     low  "
      ]
     },
     "execution_count": 187,
     "metadata": {},
     "output_type": "execute_result"
    }
   ],
   "source": [
    "dataset.head()"
   ]
  },
  {
   "cell_type": "code",
   "execution_count": 188,
   "metadata": {},
   "outputs": [
    {
     "data": {
      "text/plain": [
       "array(['low', 'medium', 'high'], dtype=object)"
      ]
     },
     "execution_count": 188,
     "metadata": {},
     "output_type": "execute_result"
    }
   ],
   "source": [
    "dataset['salary'].unique()"
   ]
  },
  {
   "cell_type": "code",
   "execution_count": 189,
   "metadata": {},
   "outputs": [
    {
     "data": {
      "text/plain": [
       "<matplotlib.axes._subplots.AxesSubplot at 0x12991c860>"
      ]
     },
     "execution_count": 189,
     "metadata": {},
     "output_type": "execute_result"
    },
    {
     "data": {
      "image/png": "[encoded data removed]",
      "text/plain": [
       "<matplotlib.figure.Figure at 0x128afae10>"
      ]
     },
     "metadata": {},
     "output_type": "display_data"
    }
   ],
   "source": [
    "dataset['average_montly_hours'].plot(kind='hist')"
   ]
  },
  {
   "cell_type": "code",
   "execution_count": 190,
   "metadata": {},
   "outputs": [
    {
     "name": "stderr",
     "output_type": "stream",
     "text": [
      "/Users/vaibhavsinh_vaghela/Anaconda/anaconda3/envs/ztdl/lib/python3.5/site-packages/sklearn/utils/validation.py:429: DataConversionWarning: Data with input dtype int64 was converted to float64 by MinMaxScaler.\n",
      "  warnings.warn(msg, _DataConversionWarning)\n"
     ]
    }
   ],
   "source": [
    "from sklearn.preprocessing import MinMaxScaler\n",
    "mms = MinMaxScaler()\n",
    "dataset['average_montly_hours_scaled'] = mms.fit_transform(dataset['average_montly_hours'])"
   ]
  },
  {
   "cell_type": "code",
   "execution_count": 191,
   "metadata": {},
   "outputs": [],
   "source": [
    "dataset.drop(['average_montly_hours'],axis=1,inplace=True)"
   ]
  },
  {
   "cell_type": "code",
   "execution_count": 192,
   "metadata": {},
   "outputs": [
    {
     "data": {
      "text/html": [
       "<div>\n",
       "<table border=\"1\" class=\"dataframe\">\n",
       "  <thead>\n",
       "    <tr style=\"text-align: right;\">\n",
       "      <th></th>\n",
       "      <th>satisfaction_level</th>\n",
       "      <th>last_evaluation</th>\n",
       "      <th>number_project</th>\n",
       "      <th>time_spend_company</th>\n",
       "      <th>Work_accident</th>\n",
       "      <th>left</th>\n",
       "      <th>promotion_last_5years</th>\n",
       "      <th>sales</th>\n",
       "      <th>salary</th>\n",
       "      <th>average_montly_hours_scaled</th>\n",
       "    </tr>\n",
       "  </thead>\n",
       "  <tbody>\n",
       "    <tr>\n",
       "      <th>0</th>\n",
       "      <td>0.38</td>\n",
       "      <td>0.53</td>\n",
       "      <td>2</td>\n",
       "      <td>3</td>\n",
       "      <td>0</td>\n",
       "      <td>1</td>\n",
       "      <td>0</td>\n",
       "      <td>sales</td>\n",
       "      <td>low</td>\n",
       "      <td>0.285047</td>\n",
       "    </tr>\n",
       "    <tr>\n",
       "      <th>1</th>\n",
       "      <td>0.80</td>\n",
       "      <td>0.86</td>\n",
       "      <td>5</td>\n",
       "      <td>6</td>\n",
       "      <td>0</td>\n",
       "      <td>1</td>\n",
       "      <td>0</td>\n",
       "      <td>sales</td>\n",
       "      <td>medium</td>\n",
       "      <td>0.775701</td>\n",
       "    </tr>\n",
       "    <tr>\n",
       "      <th>2</th>\n",
       "      <td>0.11</td>\n",
       "      <td>0.88</td>\n",
       "      <td>7</td>\n",
       "      <td>4</td>\n",
       "      <td>0</td>\n",
       "      <td>1</td>\n",
       "      <td>0</td>\n",
       "      <td>sales</td>\n",
       "      <td>medium</td>\n",
       "      <td>0.822430</td>\n",
       "    </tr>\n",
       "    <tr>\n",
       "      <th>3</th>\n",
       "      <td>0.72</td>\n",
       "      <td>0.87</td>\n",
       "      <td>5</td>\n",
       "      <td>5</td>\n",
       "      <td>0</td>\n",
       "      <td>1</td>\n",
       "      <td>0</td>\n",
       "      <td>sales</td>\n",
       "      <td>low</td>\n",
       "      <td>0.593458</td>\n",
       "    </tr>\n",
       "    <tr>\n",
       "      <th>4</th>\n",
       "      <td>0.37</td>\n",
       "      <td>0.52</td>\n",
       "      <td>2</td>\n",
       "      <td>3</td>\n",
       "      <td>0</td>\n",
       "      <td>1</td>\n",
       "      <td>0</td>\n",
       "      <td>sales</td>\n",
       "      <td>low</td>\n",
       "      <td>0.294393</td>\n",
       "    </tr>\n",
       "  </tbody>\n",
       "</table>\n",
       "</div>"
      ],
      "text/plain": [
       "   satisfaction_level  last_evaluation  number_project  time_spend_company  \\\n",
       "0                0.38             0.53               2                   3   \n",
       "1                0.80             0.86               5                   6   \n",
       "2                0.11             0.88               7                   4   \n",
       "3                0.72             0.87               5                   5   \n",
       "4                0.37             0.52               2                   3   \n",
       "\n",
       "   Work_accident  left  promotion_last_5years  sales  salary  \\\n",
       "0              0     1                      0  sales     low   \n",
       "1              0     1                      0  sales  medium   \n",
       "2              0     1                      0  sales  medium   \n",
       "3              0     1                      0  sales     low   \n",
       "4              0     1                      0  sales     low   \n",
       "\n",
       "   average_montly_hours_scaled  \n",
       "0                     0.285047  \n",
       "1                     0.775701  \n",
       "2                     0.822430  \n",
       "3                     0.593458  \n",
       "4                     0.294393  "
      ]
     },
     "execution_count": 192,
     "metadata": {},
     "output_type": "execute_result"
    }
   ],
   "source": [
    "dataset.head()"
   ]
  },
  {
   "cell_type": "code",
   "execution_count": 193,
   "metadata": {},
   "outputs": [],
   "source": [
    "dataset1 = pd.get_dummies(dataset['salary'])"
   ]
  },
  {
   "cell_type": "code",
   "execution_count": 195,
   "metadata": {},
   "outputs": [],
   "source": [
    "dataset[['salary_low','salary_medium','salary_high']] = dataset1"
   ]
  },
  {
   "cell_type": "code",
   "execution_count": 197,
   "metadata": {},
   "outputs": [
    {
     "data": {
      "text/html": [
       "<div>\n",
       "<table border=\"1\" class=\"dataframe\">\n",
       "  <thead>\n",
       "    <tr style=\"text-align: right;\">\n",
       "      <th></th>\n",
       "      <th>satisfaction_level</th>\n",
       "      <th>last_evaluation</th>\n",
       "      <th>number_project</th>\n",
       "      <th>time_spend_company</th>\n",
       "      <th>Work_accident</th>\n",
       "      <th>left</th>\n",
       "      <th>promotion_last_5years</th>\n",
       "      <th>sales</th>\n",
       "      <th>salary</th>\n",
       "      <th>average_montly_hours_scaled</th>\n",
       "      <th>salary_low</th>\n",
       "      <th>salary_medium</th>\n",
       "      <th>salary_high</th>\n",
       "    </tr>\n",
       "  </thead>\n",
       "  <tbody>\n",
       "    <tr>\n",
       "      <th>0</th>\n",
       "      <td>0.38</td>\n",
       "      <td>0.53</td>\n",
       "      <td>2</td>\n",
       "      <td>3</td>\n",
       "      <td>0</td>\n",
       "      <td>1</td>\n",
       "      <td>0</td>\n",
       "      <td>sales</td>\n",
       "      <td>low</td>\n",
       "      <td>0.285047</td>\n",
       "      <td>0</td>\n",
       "      <td>1</td>\n",
       "      <td>0</td>\n",
       "    </tr>\n",
       "    <tr>\n",
       "      <th>1</th>\n",
       "      <td>0.80</td>\n",
       "      <td>0.86</td>\n",
       "      <td>5</td>\n",
       "      <td>6</td>\n",
       "      <td>0</td>\n",
       "      <td>1</td>\n",
       "      <td>0</td>\n",
       "      <td>sales</td>\n",
       "      <td>medium</td>\n",
       "      <td>0.775701</td>\n",
       "      <td>0</td>\n",
       "      <td>0</td>\n",
       "      <td>1</td>\n",
       "    </tr>\n",
       "    <tr>\n",
       "      <th>2</th>\n",
       "      <td>0.11</td>\n",
       "      <td>0.88</td>\n",
       "      <td>7</td>\n",
       "      <td>4</td>\n",
       "      <td>0</td>\n",
       "      <td>1</td>\n",
       "      <td>0</td>\n",
       "      <td>sales</td>\n",
       "      <td>medium</td>\n",
       "      <td>0.822430</td>\n",
       "      <td>0</td>\n",
       "      <td>0</td>\n",
       "      <td>1</td>\n",
       "    </tr>\n",
       "    <tr>\n",
       "      <th>3</th>\n",
       "      <td>0.72</td>\n",
       "      <td>0.87</td>\n",
       "      <td>5</td>\n",
       "      <td>5</td>\n",
       "      <td>0</td>\n",
       "      <td>1</td>\n",
       "      <td>0</td>\n",
       "      <td>sales</td>\n",
       "      <td>low</td>\n",
       "      <td>0.593458</td>\n",
       "      <td>0</td>\n",
       "      <td>1</td>\n",
       "      <td>0</td>\n",
       "    </tr>\n",
       "    <tr>\n",
       "      <th>4</th>\n",
       "      <td>0.37</td>\n",
       "      <td>0.52</td>\n",
       "      <td>2</td>\n",
       "      <td>3</td>\n",
       "      <td>0</td>\n",
       "      <td>1</td>\n",
       "      <td>0</td>\n",
       "      <td>sales</td>\n",
       "      <td>low</td>\n",
       "      <td>0.294393</td>\n",
       "      <td>0</td>\n",
       "      <td>1</td>\n",
       "      <td>0</td>\n",
       "    </tr>\n",
       "  </tbody>\n",
       "</table>\n",
       "</div>"
      ],
      "text/plain": [
       "   satisfaction_level  last_evaluation  number_project  time_spend_company  \\\n",
       "0                0.38             0.53               2                   3   \n",
       "1                0.80             0.86               5                   6   \n",
       "2                0.11             0.88               7                   4   \n",
       "3                0.72             0.87               5                   5   \n",
       "4                0.37             0.52               2                   3   \n",
       "\n",
       "   Work_accident  left  promotion_last_5years  sales  salary  \\\n",
       "0              0     1                      0  sales     low   \n",
       "1              0     1                      0  sales  medium   \n",
       "2              0     1                      0  sales  medium   \n",
       "3              0     1                      0  sales     low   \n",
       "4              0     1                      0  sales     low   \n",
       "\n",
       "   average_montly_hours_scaled  salary_low  salary_medium  salary_high  \n",
       "0                     0.285047           0              1            0  \n",
       "1                     0.775701           0              0            1  \n",
       "2                     0.822430           0              0            1  \n",
       "3                     0.593458           0              1            0  \n",
       "4                     0.294393           0              1            0  "
      ]
     },
     "execution_count": 197,
     "metadata": {},
     "output_type": "execute_result"
    }
   ],
   "source": [
    "dataset.head()"
   ]
  },
  {
   "cell_type": "code",
   "execution_count": 198,
   "metadata": {},
   "outputs": [],
   "source": [
    "dataset.drop('salary',axis=1, inplace=True)"
   ]
  },
  {
   "cell_type": "code",
   "execution_count": 204,
   "metadata": {},
   "outputs": [
    {
     "data": {
      "text/html": [
       "<div>\n",
       "<table border=\"1\" class=\"dataframe\">\n",
       "  <thead>\n",
       "    <tr style=\"text-align: right;\">\n",
       "      <th></th>\n",
       "      <th>satisfaction_level</th>\n",
       "      <th>last_evaluation</th>\n",
       "      <th>number_project</th>\n",
       "      <th>time_spend_company</th>\n",
       "      <th>Work_accident</th>\n",
       "      <th>left</th>\n",
       "      <th>promotion_last_5years</th>\n",
       "      <th>sales</th>\n",
       "      <th>average_montly_hours_scaled</th>\n",
       "      <th>salary_low</th>\n",
       "      <th>salary_medium</th>\n",
       "      <th>salary_high</th>\n",
       "    </tr>\n",
       "  </thead>\n",
       "  <tbody>\n",
       "    <tr>\n",
       "      <th>0</th>\n",
       "      <td>0.38</td>\n",
       "      <td>0.53</td>\n",
       "      <td>2</td>\n",
       "      <td>3</td>\n",
       "      <td>0</td>\n",
       "      <td>1</td>\n",
       "      <td>0</td>\n",
       "      <td>sales</td>\n",
       "      <td>0.285047</td>\n",
       "      <td>0</td>\n",
       "      <td>1</td>\n",
       "      <td>0</td>\n",
       "    </tr>\n",
       "    <tr>\n",
       "      <th>1</th>\n",
       "      <td>0.80</td>\n",
       "      <td>0.86</td>\n",
       "      <td>5</td>\n",
       "      <td>6</td>\n",
       "      <td>0</td>\n",
       "      <td>1</td>\n",
       "      <td>0</td>\n",
       "      <td>sales</td>\n",
       "      <td>0.775701</td>\n",
       "      <td>0</td>\n",
       "      <td>0</td>\n",
       "      <td>1</td>\n",
       "    </tr>\n",
       "    <tr>\n",
       "      <th>2</th>\n",
       "      <td>0.11</td>\n",
       "      <td>0.88</td>\n",
       "      <td>7</td>\n",
       "      <td>4</td>\n",
       "      <td>0</td>\n",
       "      <td>1</td>\n",
       "      <td>0</td>\n",
       "      <td>sales</td>\n",
       "      <td>0.822430</td>\n",
       "      <td>0</td>\n",
       "      <td>0</td>\n",
       "      <td>1</td>\n",
       "    </tr>\n",
       "    <tr>\n",
       "      <th>3</th>\n",
       "      <td>0.72</td>\n",
       "      <td>0.87</td>\n",
       "      <td>5</td>\n",
       "      <td>5</td>\n",
       "      <td>0</td>\n",
       "      <td>1</td>\n",
       "      <td>0</td>\n",
       "      <td>sales</td>\n",
       "      <td>0.593458</td>\n",
       "      <td>0</td>\n",
       "      <td>1</td>\n",
       "      <td>0</td>\n",
       "    </tr>\n",
       "    <tr>\n",
       "      <th>4</th>\n",
       "      <td>0.37</td>\n",
       "      <td>0.52</td>\n",
       "      <td>2</td>\n",
       "      <td>3</td>\n",
       "      <td>0</td>\n",
       "      <td>1</td>\n",
       "      <td>0</td>\n",
       "      <td>sales</td>\n",
       "      <td>0.294393</td>\n",
       "      <td>0</td>\n",
       "      <td>1</td>\n",
       "      <td>0</td>\n",
       "    </tr>\n",
       "  </tbody>\n",
       "</table>\n",
       "</div>"
      ],
      "text/plain": [
       "   satisfaction_level  last_evaluation  number_project  time_spend_company  \\\n",
       "0                0.38             0.53               2                   3   \n",
       "1                0.80             0.86               5                   6   \n",
       "2                0.11             0.88               7                   4   \n",
       "3                0.72             0.87               5                   5   \n",
       "4                0.37             0.52               2                   3   \n",
       "\n",
       "   Work_accident  left  promotion_last_5years  sales  \\\n",
       "0              0     1                      0  sales   \n",
       "1              0     1                      0  sales   \n",
       "2              0     1                      0  sales   \n",
       "3              0     1                      0  sales   \n",
       "4              0     1                      0  sales   \n",
       "\n",
       "   average_montly_hours_scaled  salary_low  salary_medium  salary_high  \n",
       "0                     0.285047           0              1            0  \n",
       "1                     0.775701           0              0            1  \n",
       "2                     0.822430           0              0            1  \n",
       "3                     0.593458           0              1            0  \n",
       "4                     0.294393           0              1            0  "
      ]
     },
     "execution_count": 204,
     "metadata": {},
     "output_type": "execute_result"
    }
   ],
   "source": [
    "dataset.head()"
   ]
  },
  {
   "cell_type": "code",
   "execution_count": 282,
   "metadata": {},
   "outputs": [],
   "source": [
    "from keras.models import Sequential\n",
    "from keras.layers import Dense, Activation\n",
    "from keras.optimizers import Adam, SGD"
   ]
  },
  {
   "cell_type": "code",
   "execution_count": 283,
   "metadata": {},
   "outputs": [],
   "source": [
    "model_v = Sequential()"
   ]
  },
  {
   "cell_type": "code",
   "execution_count": 284,
   "metadata": {},
   "outputs": [],
   "source": [
    "model_v.add(Dense(64,input_shape=(10,)))\n",
    "model_v.add(Activation('relu'))\n",
    "model_v.add(Dense(1))\n",
    "model_v.add(Activation('sigmoid'))"
   ]
  },
  {
   "cell_type": "code",
   "execution_count": 285,
   "metadata": {},
   "outputs": [
    {
     "name": "stdout",
     "output_type": "stream",
     "text": [
      "<class 'pandas.core.frame.DataFrame'>\n",
      "RangeIndex: 14999 entries, 0 to 14998\n",
      "Data columns (total 12 columns):\n",
      "satisfaction_level             14999 non-null float64\n",
      "last_evaluation                14999 non-null float64\n",
      "number_project                 14999 non-null int64\n",
      "time_spend_company             14999 non-null int64\n",
      "Work_accident                  14999 non-null int64\n",
      "left                           14999 non-null int64\n",
      "promotion_last_5years          14999 non-null int64\n",
      "sales                          14999 non-null object\n",
      "average_montly_hours_scaled    14999 non-null float64\n",
      "salary_low                     14999 non-null uint8\n",
      "salary_medium                  14999 non-null uint8\n",
      "salary_high                    14999 non-null uint8\n",
      "dtypes: float64(3), int64(5), object(1), uint8(3)\n",
      "memory usage: 1.1+ MB\n"
     ]
    }
   ],
   "source": [
    "dataset.info()"
   ]
  },
  {
   "cell_type": "code",
   "execution_count": 286,
   "metadata": {},
   "outputs": [
    {
     "data": {
      "text/plain": [
       "(14999, 10)"
      ]
     },
     "execution_count": 286,
     "metadata": {},
     "output_type": "execute_result"
    }
   ],
   "source": [
    "X=dataset[['satisfaction_level','last_evaluation','time_spend_company','number_project',\n",
    "           'Work_accident','promotion_last_5years',\n",
    "          'average_montly_hours_scaled','salary_low',\n",
    "           'salary_medium','salary_high']].values\n",
    "X.shape"
   ]
  },
  {
   "cell_type": "code",
   "execution_count": 287,
   "metadata": {},
   "outputs": [],
   "source": [
    "y=dataset['left'].values"
   ]
  },
  {
   "cell_type": "code",
   "execution_count": 288,
   "metadata": {},
   "outputs": [],
   "source": [
    "from sklearn.model_selection import train_test_split"
   ]
  },
  {
   "cell_type": "code",
   "execution_count": 289,
   "metadata": {},
   "outputs": [],
   "source": [
    "X_train, X_test, y_train, y_test = train_test_split(X, y, test_size=0.33)"
   ]
  },
  {
   "cell_type": "code",
   "execution_count": 290,
   "metadata": {},
   "outputs": [],
   "source": [
    "model_v.compile(optimizer=Adam(lr=0.01),loss='binary_crossentropy',metrics=['accuracy'])"
   ]
  },
  {
   "cell_type": "code",
   "execution_count": 291,
   "metadata": {},
   "outputs": [
    {
     "name": "stdout",
     "output_type": "stream",
     "text": [
      "Epoch 1/100\n",
      "10049/10049 [==============================] - 1s - loss: 0.3261 - acc: 0.8517     \n",
      "Epoch 2/100\n",
      "10049/10049 [==============================] - 0s - loss: 0.2164 - acc: 0.9183     \n",
      "Epoch 3/100\n",
      "10049/10049 [==============================] - 1s - loss: 0.1941 - acc: 0.9335     \n",
      "Epoch 4/100\n",
      "10049/10049 [==============================] - 1s - loss: 0.1878 - acc: 0.9377     \n",
      "Epoch 5/100\n",
      "10049/10049 [==============================] - 1s - loss: 0.1749 - acc: 0.9449     \n",
      "Epoch 6/100\n",
      "10049/10049 [==============================] - 1s - loss: 0.1721 - acc: 0.9456     \n",
      "Epoch 7/100\n",
      "10049/10049 [==============================] - 1s - loss: 0.1643 - acc: 0.9502     \n",
      "Epoch 8/100\n",
      "10049/10049 [==============================] - 1s - loss: 0.1620 - acc: 0.9531     \n",
      "Epoch 9/100\n",
      "10049/10049 [==============================] - 1s - loss: 0.1619 - acc: 0.9504     \n",
      "Epoch 10/100\n",
      "10049/10049 [==============================] - 1s - loss: 0.1614 - acc: 0.9530     \n",
      "Epoch 11/100\n",
      "10049/10049 [==============================] - 1s - loss: 0.1543 - acc: 0.9559     \n",
      "Epoch 12/100\n",
      "10049/10049 [==============================] - 1s - loss: 0.1576 - acc: 0.9528     \n",
      "Epoch 13/100\n",
      "10049/10049 [==============================] - 1s - loss: 0.1529 - acc: 0.9538     \n",
      "Epoch 14/100\n",
      "10049/10049 [==============================] - 1s - loss: 0.1543 - acc: 0.9532     \n",
      "Epoch 15/100\n",
      "10049/10049 [==============================] - 1s - loss: 0.1494 - acc: 0.9555     \n",
      "Epoch 16/100\n",
      "10049/10049 [==============================] - 1s - loss: 0.1499 - acc: 0.9569     \n",
      "Epoch 17/100\n",
      "10049/10049 [==============================] - 1s - loss: 0.1509 - acc: 0.9541     \n",
      "Epoch 18/100\n",
      "10049/10049 [==============================] - 1s - loss: 0.1460 - acc: 0.9566     \n",
      "Epoch 19/100\n",
      "10049/10049 [==============================] - 1s - loss: 0.1481 - acc: 0.9556     \n",
      "Epoch 20/100\n",
      "10049/10049 [==============================] - 1s - loss: 0.1479 - acc: 0.9557     \n",
      "Epoch 21/100\n",
      "10049/10049 [==============================] - 1s - loss: 0.1469 - acc: 0.9552     \n",
      "Epoch 22/100\n",
      "10049/10049 [==============================] - 1s - loss: 0.1461 - acc: 0.9550     \n",
      "Epoch 23/100\n",
      "10049/10049 [==============================] - 1s - loss: 0.1449 - acc: 0.9575     \n",
      "Epoch 24/100\n",
      "10049/10049 [==============================] - 1s - loss: 0.1523 - acc: 0.9515     \n",
      "Epoch 25/100\n",
      "10049/10049 [==============================] - 1s - loss: 0.1460 - acc: 0.9539     \n",
      "Epoch 26/100\n",
      "10049/10049 [==============================] - 1s - loss: 0.1412 - acc: 0.9584     \n",
      "Epoch 27/100\n",
      "10049/10049 [==============================] - 1s - loss: 0.1427 - acc: 0.9575     \n",
      "Epoch 28/100\n",
      "10049/10049 [==============================] - 1s - loss: 0.1515 - acc: 0.9515     \n",
      "Epoch 29/100\n",
      "10049/10049 [==============================] - 1s - loss: 0.1412 - acc: 0.9563     \n",
      "Epoch 30/100\n",
      "10049/10049 [==============================] - 1s - loss: 0.1380 - acc: 0.9590     \n",
      "Epoch 31/100\n",
      "10049/10049 [==============================] - 1s - loss: 0.1396 - acc: 0.9577     \n",
      "Epoch 32/100\n",
      "10049/10049 [==============================] - 1s - loss: 0.1390 - acc: 0.9580     \n",
      "Epoch 33/100\n",
      "10049/10049 [==============================] - 1s - loss: 0.1370 - acc: 0.9577     \n",
      "Epoch 34/100\n",
      "10049/10049 [==============================] - 1s - loss: 0.1347 - acc: 0.9580     \n",
      "Epoch 35/100\n",
      "10049/10049 [==============================] - 1s - loss: 0.1340 - acc: 0.9594     \n",
      "Epoch 36/100\n",
      "10049/10049 [==============================] - 1s - loss: 0.1324 - acc: 0.9608     \n",
      "Epoch 37/100\n",
      "10049/10049 [==============================] - 1s - loss: 0.1365 - acc: 0.9584     \n",
      "Epoch 38/100\n",
      "10049/10049 [==============================] - 1s - loss: 0.1370 - acc: 0.9573     \n",
      "Epoch 39/100\n",
      "10049/10049 [==============================] - 1s - loss: 0.1313 - acc: 0.9602     \n",
      "Epoch 40/100\n",
      "10049/10049 [==============================] - 1s - loss: 0.1348 - acc: 0.9584     \n",
      "Epoch 41/100\n",
      "10049/10049 [==============================] - 1s - loss: 0.1317 - acc: 0.9596     \n",
      "Epoch 42/100\n",
      "10049/10049 [==============================] - 1s - loss: 0.1354 - acc: 0.9599     \n",
      "Epoch 43/100\n",
      "10049/10049 [==============================] - 1s - loss: 0.1316 - acc: 0.9608     \n",
      "Epoch 44/100\n",
      "10049/10049 [==============================] - 1s - loss: 0.1323 - acc: 0.9608     \n",
      "Epoch 45/100\n",
      "10049/10049 [==============================] - 1s - loss: 0.1321 - acc: 0.9593     \n",
      "Epoch 46/100\n",
      "10049/10049 [==============================] - 1s - loss: 0.1486 - acc: 0.9539     \n",
      "Epoch 47/100\n",
      "10049/10049 [==============================] - 1s - loss: 0.1277 - acc: 0.9616     \n",
      "Epoch 48/100\n",
      "10049/10049 [==============================] - 1s - loss: 0.1287 - acc: 0.9616     \n",
      "Epoch 49/100\n",
      "10049/10049 [==============================] - 1s - loss: 0.1302 - acc: 0.9625     \n",
      "Epoch 50/100\n",
      "10049/10049 [==============================] - 1s - loss: 0.1279 - acc: 0.9621     \n",
      "Epoch 51/100\n",
      "10049/10049 [==============================] - 1s - loss: 0.1255 - acc: 0.9631     \n",
      "Epoch 52/100\n",
      "10049/10049 [==============================] - 1s - loss: 0.1262 - acc: 0.9620     \n",
      "Epoch 53/100\n",
      "10049/10049 [==============================] - 1s - loss: 0.1300 - acc: 0.9612     \n",
      "Epoch 54/100\n",
      "10049/10049 [==============================] - 1s - loss: 0.1275 - acc: 0.9612     \n",
      "Epoch 55/100\n",
      "10049/10049 [==============================] - 1s - loss: 0.1267 - acc: 0.9635     \n",
      "Epoch 56/100\n",
      "10049/10049 [==============================] - 1s - loss: 0.1270 - acc: 0.9623     \n",
      "Epoch 57/100\n",
      "10049/10049 [==============================] - 1s - loss: 0.1252 - acc: 0.9630     \n",
      "Epoch 58/100\n",
      "10049/10049 [==============================] - 1s - loss: 0.1273 - acc: 0.9614     \n",
      "Epoch 59/100\n",
      "10049/10049 [==============================] - 1s - loss: 0.1268 - acc: 0.9621     \n",
      "Epoch 60/100\n",
      "10049/10049 [==============================] - 1s - loss: 0.1251 - acc: 0.9617     \n",
      "Epoch 61/100\n",
      "10049/10049 [==============================] - 1s - loss: 0.1261 - acc: 0.9631     \n",
      "Epoch 62/100\n",
      "10049/10049 [==============================] - 1s - loss: 0.1260 - acc: 0.9632     \n",
      "Epoch 63/100\n",
      "10049/10049 [==============================] - 1s - loss: 0.1406 - acc: 0.9592     \n",
      "Epoch 64/100\n",
      "10049/10049 [==============================] - 1s - loss: 0.1230 - acc: 0.9629     \n",
      "Epoch 65/100\n",
      "10049/10049 [==============================] - 1s - loss: 0.1219 - acc: 0.9645     \n",
      "Epoch 66/100\n",
      "10049/10049 [==============================] - 1s - loss: 0.1235 - acc: 0.9643     \n",
      "Epoch 67/100\n",
      "10049/10049 [==============================] - 1s - loss: 0.1193 - acc: 0.9645     \n",
      "Epoch 68/100\n",
      "10049/10049 [==============================] - 1s - loss: 0.1239 - acc: 0.9629     \n",
      "Epoch 69/100\n",
      "10049/10049 [==============================] - 1s - loss: 0.1226 - acc: 0.9638     \n",
      "Epoch 70/100\n",
      "10049/10049 [==============================] - 1s - loss: 0.1214 - acc: 0.9629     \n",
      "Epoch 71/100\n",
      "10049/10049 [==============================] - 1s - loss: 0.1206 - acc: 0.9639     \n",
      "Epoch 72/100\n",
      "10049/10049 [==============================] - 1s - loss: 0.1220 - acc: 0.9649     \n",
      "Epoch 73/100\n",
      "10049/10049 [==============================] - 1s - loss: 0.1224 - acc: 0.9652     \n",
      "Epoch 74/100\n",
      "10049/10049 [==============================] - 1s - loss: 0.1203 - acc: 0.9659     \n",
      "Epoch 75/100\n",
      "10049/10049 [==============================] - 1s - loss: 0.1230 - acc: 0.9635     \n",
      "Epoch 76/100\n",
      "10049/10049 [==============================] - 1s - loss: 0.1177 - acc: 0.9644     \n",
      "Epoch 77/100\n",
      "10049/10049 [==============================] - 1s - loss: 0.1205 - acc: 0.9639     \n",
      "Epoch 78/100\n",
      "10049/10049 [==============================] - 1s - loss: 0.1203 - acc: 0.9632     \n",
      "Epoch 79/100\n",
      "10049/10049 [==============================] - 1s - loss: 0.1186 - acc: 0.9653     \n",
      "Epoch 80/100\n",
      "10049/10049 [==============================] - 1s - loss: 0.1205 - acc: 0.9643     \n",
      "Epoch 81/100\n",
      "10049/10049 [==============================] - 1s - loss: 0.1197 - acc: 0.9639     \n",
      "Epoch 82/100\n",
      "10049/10049 [==============================] - 1s - loss: 0.1170 - acc: 0.9656     \n",
      "Epoch 83/100\n",
      "10049/10049 [==============================] - 1s - loss: 0.1167 - acc: 0.9649     \n",
      "Epoch 84/100\n",
      "10049/10049 [==============================] - 1s - loss: 0.1181 - acc: 0.9651     \n",
      "Epoch 85/100\n"
     ]
    },
    {
     "name": "stdout",
     "output_type": "stream",
     "text": [
      "10049/10049 [==============================] - 1s - loss: 0.1176 - acc: 0.9650     \n",
      "Epoch 86/100\n",
      "10049/10049 [==============================] - 1s - loss: 0.1200 - acc: 0.9639     \n",
      "Epoch 87/100\n",
      "10049/10049 [==============================] - 1s - loss: 0.1157 - acc: 0.9652     \n",
      "Epoch 88/100\n",
      "10049/10049 [==============================] - 1s - loss: 0.1156 - acc: 0.9653     \n",
      "Epoch 89/100\n",
      "10049/10049 [==============================] - 1s - loss: 0.1172 - acc: 0.9653     \n",
      "Epoch 90/100\n",
      "10049/10049 [==============================] - 1s - loss: 0.1186 - acc: 0.9647     \n",
      "Epoch 91/100\n",
      "10049/10049 [==============================] - 1s - loss: 0.1189 - acc: 0.9646     \n",
      "Epoch 92/100\n",
      "10049/10049 [==============================] - 1s - loss: 0.1157 - acc: 0.9666     \n",
      "Epoch 93/100\n",
      "10049/10049 [==============================] - 1s - loss: 0.1161 - acc: 0.9662     \n",
      "Epoch 94/100\n",
      "10049/10049 [==============================] - 1s - loss: 0.1138 - acc: 0.9678     \n",
      "Epoch 95/100\n",
      "10049/10049 [==============================] - 1s - loss: 0.1120 - acc: 0.9670     \n",
      "Epoch 96/100\n",
      "10049/10049 [==============================] - 1s - loss: 0.1182 - acc: 0.9658     \n",
      "Epoch 97/100\n",
      "10049/10049 [==============================] - 1s - loss: 0.1167 - acc: 0.9660     \n",
      "Epoch 98/100\n",
      "10049/10049 [==============================] - 1s - loss: 0.1121 - acc: 0.9667     \n",
      "Epoch 99/100\n",
      "10049/10049 [==============================] - 1s - loss: 0.1130 - acc: 0.9658     \n",
      "Epoch 100/100\n",
      "10049/10049 [==============================] - 1s - loss: 0.1151 - acc: 0.9670     \n"
     ]
    },
    {
     "data": {
      "text/plain": [
       "<keras.callbacks.History at 0x13025f908>"
      ]
     },
     "execution_count": 291,
     "metadata": {},
     "output_type": "execute_result"
    }
   ],
   "source": [
    "model_v.fit(X_train,y_train,epochs=100)"
   ]
  },
  {
   "cell_type": "code",
   "execution_count": 292,
   "metadata": {},
   "outputs": [],
   "source": [
    "from sklearn.metrics import f1_score, r2_score, precision_score,recall_score"
   ]
  },
  {
   "cell_type": "code",
   "execution_count": 299,
   "metadata": {},
   "outputs": [
    {
     "name": "stdout",
     "output_type": "stream",
     "text": [
      "4224/4950 [========================>.....] - ETA: 0s0.868016194332\n"
     ]
    }
   ],
   "source": [
    "print (f1_score(y_test,model_v.predict_classes(X_test)))"
   ]
  },
  {
   "cell_type": "code",
   "execution_count": 300,
   "metadata": {},
   "outputs": [
    {
     "name": "stdout",
     "output_type": "stream",
     "text": [
      "10049/10049 [==============================] - 0s     \n",
      "0.885400313972\n"
     ]
    }
   ],
   "source": [
    "print (f1_score(y_train,model_v.predict_classes(X_train)))"
   ]
  },
  {
   "cell_type": "code",
   "execution_count": 301,
   "metadata": {},
   "outputs": [],
   "source": [
    "from sklearn.metrics import confusion_matrix, classification_report\n",
    "def pretty_confusion_matrix(y_true, y_pred, labels=[\"False\", \"True\"]):\n",
    "    cm = confusion_matrix(y_true, y_pred)\n",
    "    pred_labels = ['Predicted '+ l for l in labels]\n",
    "    df = pd.DataFrame(cm, index=labels, columns=pred_labels)\n",
    "    return df\n"
   ]
  },
  {
   "cell_type": "code",
   "execution_count": 302,
   "metadata": {},
   "outputs": [
    {
     "name": "stdout",
     "output_type": "stream",
     "text": [
      "4512/4950 [==========================>...] - ETA: 0s"
     ]
    },
    {
     "data": {
      "text/html": [
       "<div>\n",
       "<table border=\"1\" class=\"dataframe\">\n",
       "  <thead>\n",
       "    <tr style=\"text-align: right;\">\n",
       "      <th></th>\n",
       "      <th>Predicted Stay</th>\n",
       "      <th>Predicted Leave</th>\n",
       "    </tr>\n",
       "  </thead>\n",
       "  <tbody>\n",
       "    <tr>\n",
       "      <th>Stay</th>\n",
       "      <td>3552</td>\n",
       "      <td>246</td>\n",
       "    </tr>\n",
       "    <tr>\n",
       "      <th>Leave</th>\n",
       "      <td>80</td>\n",
       "      <td>1072</td>\n",
       "    </tr>\n",
       "  </tbody>\n",
       "</table>\n",
       "</div>"
      ],
      "text/plain": [
       "       Predicted Stay  Predicted Leave\n",
       "Stay             3552              246\n",
       "Leave              80             1072"
      ]
     },
     "execution_count": 302,
     "metadata": {},
     "output_type": "execute_result"
    }
   ],
   "source": [
    "# check the confusion matrix, precision and recall\n",
    "y_test_pred = model_v.predict_classes(X_test)\n",
    "pretty_confusion_matrix(y_test, y_test_pred, labels=['Stay', 'Leave'])"
   ]
  },
  {
   "cell_type": "code",
   "execution_count": 303,
   "metadata": {},
   "outputs": [
    {
     "name": "stdout",
     "output_type": "stream",
     "text": [
      "             precision    recall  f1-score   support\n",
      "\n",
      "          0       0.98      0.94      0.96      3798\n",
      "          1       0.81      0.93      0.87      1152\n",
      "\n",
      "avg / total       0.94      0.93      0.94      4950\n",
      "\n"
     ]
    }
   ],
   "source": [
    "print(classification_report(y_test, y_test_pred))"
   ]
  },
  {
   "cell_type": "code",
   "execution_count": null,
   "metadata": {},
   "outputs": [],
   "source": []
  }
 ],
 "metadata": {
  "kernelspec": {
   "display_name": "Python 3",
   "language": "python",
   "name": "python3"
  },
  "language_info": {
   "codemirror_mode": {
    "name": "ipython",
    "version": 3
   },
   "file_extension": ".py",
   "mimetype": "text/x-python",
   "name": "python",
   "nbconvert_exporter": "python",
   "pygments_lexer": "ipython3",
   "version": "3.5.4"
  }
 },
 "nbformat": 4,
 "nbformat_minor": 2
}
